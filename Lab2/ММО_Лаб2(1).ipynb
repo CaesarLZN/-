{
  "nbformat": 4,
  "nbformat_minor": 0,
  "metadata": {
    "colab": {
      "provenance": []
    },
    "kernelspec": {
      "name": "python3",
      "display_name": "Python 3"
    },
    "language_info": {
      "name": "python"
    }
  },
  "cells": [
    {
      "cell_type": "code",
      "execution_count": null,
      "metadata": {
        "id": "73Vs5k9lHmAX"
      },
      "outputs": [],
      "source": [
        "import numpy as np\n",
        "import pandas as pd\n",
        "import seaborn as sns\n",
        "import matplotlib.pyplot as plt\n",
        "from sklearn.impute import SimpleImputer\n",
        "from sklearn.impute import MissingIndicator\n",
        "from sklearn.impute import KNNImputer\n",
        "from sklearn.preprocessing import StandardScaler\n",
        "from sklearn.linear_model import Lasso\n",
        "from sklearn.pipeline import Pipeline\n",
        "from sklearn.model_selection import GridSearchCV\n",
        "from sklearn.ensemble import RandomForestRegressor\n",
        "from sklearn.experimental import enable_iterative_imputer\n",
        "from sklearn.impute import IterativeImputer\n",
        "from IPython.display import Image\n",
        "%matplotlib inline \n",
        "sns.set(style=\"ticks\")"
      ]
    },
    {
      "cell_type": "code",
      "source": [
        "#Загрузка и первичный анализ данных#"
      ],
      "metadata": {
        "id": "MA-x-yYpJcrW"
      },
      "execution_count": null,
      "outputs": []
    },
    {
      "cell_type": "code",
      "source": [
        "# Будем использовать только обучающую выборку\n",
        "data = pd.read_csv('Movies.csv')"
      ],
      "metadata": {
        "id": "95_QH2YfICUr"
      },
      "execution_count": null,
      "outputs": []
    },
    {
      "cell_type": "code",
      "source": [
        "data.shape"
      ],
      "metadata": {
        "colab": {
          "base_uri": "https://localhost:8080/"
        },
        "id": "bWRMSoDyJbjp",
        "outputId": "2071352a-50f1-4244-a9e4-5744a2f09b87"
      },
      "execution_count": null,
      "outputs": [
        {
          "output_type": "execute_result",
          "data": {
            "text/plain": [
              "(866, 13)"
            ]
          },
          "metadata": {},
          "execution_count": 51
        }
      ]
    },
    {
      "cell_type": "code",
      "source": [
        "data.isnull().sum()"
      ],
      "metadata": {
        "colab": {
          "base_uri": "https://localhost:8080/"
        },
        "id": "Fu8zdny-KEUL",
        "outputId": "06378f6c-9787-4a38-b28b-2e979876fbda"
      },
      "execution_count": null,
      "outputs": [
        {
          "output_type": "execute_result",
          "data": {
            "text/plain": [
              "index             0\n",
              "Title             0\n",
              "Release Date     13\n",
              "Year             12\n",
              "Description     866\n",
              "URL               0\n",
              "Rating           19\n",
              "Runtime          19\n",
              "Genres            0\n",
              "Votes            19\n",
              "Directors         8\n",
              "Series            0\n",
              "Order             0\n",
              "dtype: int64"
            ]
          },
          "metadata": {},
          "execution_count": 52
        }
      ]
    },
    {
      "cell_type": "code",
      "source": [
        "#data type#\n",
        "list(zip(data.columns, [i for i in data.dtypes]))"
      ],
      "metadata": {
        "colab": {
          "base_uri": "https://localhost:8080/"
        },
        "id": "RyONIXQ6LanL",
        "outputId": "7c1957f2-2110-4fbd-8333-25b220d27b3a"
      },
      "execution_count": null,
      "outputs": [
        {
          "output_type": "execute_result",
          "data": {
            "text/plain": [
              "[('index', dtype('int64')),\n",
              " ('Title', dtype('O')),\n",
              " ('Release Date', dtype('O')),\n",
              " ('Year', dtype('float64')),\n",
              " ('Description', dtype('float64')),\n",
              " ('URL', dtype('O')),\n",
              " ('Rating', dtype('float64')),\n",
              " ('Runtime', dtype('float64')),\n",
              " ('Genres', dtype('O')),\n",
              " ('Votes', dtype('float64')),\n",
              " ('Directors', dtype('O')),\n",
              " ('Series', dtype('O')),\n",
              " ('Order', dtype('int64'))]"
            ]
          },
          "metadata": {},
          "execution_count": 53
        }
      ]
    },
    {
      "cell_type": "code",
      "source": [
        "# Колонки с пропусками\n",
        "hcols_with_na = [c for c in data.columns if data[c].isnull().sum() > 0]\n",
        "hcols_with_na"
      ],
      "metadata": {
        "colab": {
          "base_uri": "https://localhost:8080/"
        },
        "id": "FElj4JfKLpxv",
        "outputId": "35a978c5-2f88-4400-e6a8-fb551820e58c"
      },
      "execution_count": null,
      "outputs": [
        {
          "output_type": "execute_result",
          "data": {
            "text/plain": [
              "['Release Date',\n",
              " 'Year',\n",
              " 'Description',\n",
              " 'Rating',\n",
              " 'Runtime',\n",
              " 'Votes',\n",
              " 'Directors']"
            ]
          },
          "metadata": {},
          "execution_count": 54
        }
      ]
    },
    {
      "cell_type": "code",
      "source": [
        "data.shape"
      ],
      "metadata": {
        "colab": {
          "base_uri": "https://localhost:8080/"
        },
        "id": "jClOxX25MMQx",
        "outputId": "14aabbf8-ed6a-4b07-fe14-5e764e5a8d6d"
      },
      "execution_count": null,
      "outputs": [
        {
          "output_type": "execute_result",
          "data": {
            "text/plain": [
              "(866, 13)"
            ]
          },
          "metadata": {},
          "execution_count": 55
        }
      ]
    },
    {
      "cell_type": "code",
      "source": [
        "# Количество пропусков\n",
        "[(c, data[c].isnull().sum()) for c in hcols_with_na]"
      ],
      "metadata": {
        "colab": {
          "base_uri": "https://localhost:8080/"
        },
        "id": "yWoHQAkaMW35",
        "outputId": "e46b6d48-e08c-4326-8d07-754d848645d1"
      },
      "execution_count": null,
      "outputs": [
        {
          "output_type": "execute_result",
          "data": {
            "text/plain": [
              "[('Release Date', 13),\n",
              " ('Year', 12),\n",
              " ('Description', 866),\n",
              " ('Rating', 19),\n",
              " ('Runtime', 19),\n",
              " ('Votes', 19),\n",
              " ('Directors', 8)]"
            ]
          },
          "metadata": {},
          "execution_count": 56
        }
      ]
    },
    {
      "cell_type": "code",
      "source": [
        "# Доля (процент) пропусков\n",
        "[(c, data[c].isnull().mean()) for c in hcols_with_na]"
      ],
      "metadata": {
        "colab": {
          "base_uri": "https://localhost:8080/"
        },
        "id": "-udfr1TgMe5S",
        "outputId": "f9d5d5b8-8610-4ba8-8d55-050b8e63fa32"
      },
      "execution_count": null,
      "outputs": [
        {
          "output_type": "execute_result",
          "data": {
            "text/plain": [
              "[('Release Date', 0.015011547344110854),\n",
              " ('Year', 0.013856812933025405),\n",
              " ('Description', 1.0),\n",
              " ('Rating', 0.021939953810623556),\n",
              " ('Runtime', 0.021939953810623556),\n",
              " ('Votes', 0.021939953810623556),\n",
              " ('Directors', 0.009237875288683603)]"
            ]
          },
          "metadata": {},
          "execution_count": 57
        }
      ]
    },
    {
      "cell_type": "code",
      "source": [
        "# Колонки для которых удаляются пропуски\n",
        "hcols_with_na_temp = ['Directors', 'Year', 'Votes']"
      ],
      "metadata": {
        "id": "BkoKIhWLN7sI"
      },
      "execution_count": null,
      "outputs": []
    },
    {
      "cell_type": "code",
      "source": [
        "res = data.dropna(axis=1, how='any')"
      ],
      "metadata": {
        "id": "-2XBjOkiPHP5"
      },
      "execution_count": null,
      "outputs": []
    },
    {
      "cell_type": "code",
      "source": [
        "# Удаление пропусков\n",
        "data_drop = data[hcols_with_na_temp].dropna()\n",
        "data_drop.shape"
      ],
      "metadata": {
        "colab": {
          "base_uri": "https://localhost:8080/"
        },
        "id": "NYFXnufmPIzI",
        "outputId": "aff7c40d-5427-45b0-ea99-4bd394207883"
      },
      "execution_count": null,
      "outputs": [
        {
          "output_type": "execute_result",
          "data": {
            "text/plain": [
              "(847, 3)"
            ]
          },
          "metadata": {},
          "execution_count": 81
        }
      ]
    },
    {
      "cell_type": "code",
      "source": [
        "def plot_hist_diff(old_ds, new_ds, cols):\n",
        "    \"\"\"\n",
        "    Разница между распределениями до и после устранения пропусков\n",
        "    \"\"\"\n",
        "    for c in cols:   \n",
        "        fig = plt.figure()\n",
        "        ax = fig.add_subplot(111)\n",
        "        ax.title.set_text('Поле - ' + str(c))\n",
        "        old_ds[c].hist(bins=50, ax=ax, density=True, color='green')\n",
        "        new_ds[c].hist(bins=50, ax=ax, color='blue', density=True, alpha=0.5)\n",
        "        plt.show()"
      ],
      "metadata": {
        "id": "8cSwFVeNPRv8"
      },
      "execution_count": null,
      "outputs": []
    },
    {
      "cell_type": "code",
      "source": [
        "plot_hist_diff(data, data_drop, hcols_with_na_temp)"
      ],
      "metadata": {
        "colab": {
          "base_uri": "https://localhost:8080/",
          "height": 833
        },
        "id": "mpMhvVvbPaSE",
        "outputId": "b23873f1-df7c-4411-e768-7c0d0e13f604"
      },
      "execution_count": null,
      "outputs": [
        {
          "output_type": "display_data",
          "data": {
            "text/plain": [
              "<Figure size 432x288 with 1 Axes>"
            ],
            "image/png": "[encoded data removed]"
          },
          "metadata": {}
        },
        {
          "output_type": "display_data",
          "data": {
            "text/plain": [
              "<Figure size 432x288 with 1 Axes>"
            ],
            "image/png": "[encoded data removed]"
          },
          "metadata": {}
        },
        {
          "output_type": "display_data",
          "data": {
            "text/plain": [
              "<Figure size 432x288 with 1 Axes>"
            ],
            "image/png": "[encoded data removed]"
          },
          "metadata": {}
        }
      ]
    }
  ]
}